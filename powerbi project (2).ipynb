{
 "cells": [
  {
   "cell_type": "code",
   "execution_count": 30,
   "id": "a97a927b-2b3a-446b-9665-2e18e2fd69b2",
   "metadata": {},
   "outputs": [],
   "source": [
    "\n",
    "import sqlalchemy\n",
    "#inslallation of pymysql\n",
    "#!pip install pymysql"
   ]
  },
  {
   "cell_type": "code",
   "execution_count": 31,
   "id": "22e58589-e05c-4eaf-a601-adb14b02adce",
   "metadata": {},
   "outputs": [],
   "source": [
    "import pymysql"
   ]
  },
  {
   "cell_type": "code",
   "execution_count": 32,
   "id": "294a7d26-e976-4ef6-a41b-062164e2de12",
   "metadata": {},
   "outputs": [],
   "source": [
    "import pandas as pd"
   ]
  },
  {
   "cell_type": "code",
   "execution_count": 33,
   "id": "b7237636-dea9-4645-8a56-d81c8bf41cc2",
   "metadata": {},
   "outputs": [],
   "source": [
    "import matplotlib.pyplot as plt"
   ]
  },
  {
   "cell_type": "code",
   "execution_count": 34,
   "id": "815ec5a2-d5a9-4eb9-b383-22b695218fa6",
   "metadata": {},
   "outputs": [],
   "source": [
    "#connection created in between sql and python \n",
    "engine = sqlalchemy.create_engine('mysql+pymysql://root:@localhost:3306/powerbi22')"
   ]
  },
  {
   "cell_type": "code",
   "execution_count": 35,
   "id": "31106ccb-e8ff-4614-84a3-735dcad6a487",
   "metadata": {},
   "outputs": [],
   "source": [
    "#load customers, purchase, products table from sqlDB\n",
    "customers = pd.read_sql_table(\"customers\",engine)\n",
    "purchase = pd.read_sql_table(\"purchase\",engine)\n",
    "products=pd.read_sql_table(\"products\",engine)\n"
   ]
  },
  {
   "cell_type": "code",
   "execution_count": 36,
   "id": "7ef931c1-fde4-411a-af54-3201ce2e0528",
   "metadata": {},
   "outputs": [
    {
     "data": {
      "text/html": [
       "<div>\n",
       "<style scoped>\n",
       "    .dataframe tbody tr th:only-of-type {\n",
       "        vertical-align: middle;\n",
       "    }\n",
       "\n",
       "    .dataframe tbody tr th {\n",
       "        vertical-align: top;\n",
       "    }\n",
       "\n",
       "    .dataframe thead th {\n",
       "        text-align: right;\n",
       "    }\n",
       "</style>\n",
       "<table border=\"1\" class=\"dataframe\">\n",
       "  <thead>\n",
       "    <tr style=\"text-align: right;\">\n",
       "      <th></th>\n",
       "      <th>PurchaseID</th>\n",
       "      <th>PurchaseQuantity</th>\n",
       "      <th>PurchasePrice</th>\n",
       "      <th>PurchaseDate</th>\n",
       "      <th>customerid</th>\n",
       "      <th>ProductID</th>\n",
       "      <th>TransactionID</th>\n",
       "    </tr>\n",
       "  </thead>\n",
       "  <tbody>\n",
       "    <tr>\n",
       "      <th>0</th>\n",
       "      <td>5001</td>\n",
       "      <td>3</td>\n",
       "      <td>54.96</td>\n",
       "      <td>2023-06-26</td>\n",
       "      <td>3001</td>\n",
       "      <td>207</td>\n",
       "      <td>224</td>\n",
       "    </tr>\n",
       "    <tr>\n",
       "      <th>1</th>\n",
       "      <td>5002</td>\n",
       "      <td>1</td>\n",
       "      <td>477.05</td>\n",
       "      <td>2023-06-26</td>\n",
       "      <td>3002</td>\n",
       "      <td>217</td>\n",
       "      <td>650</td>\n",
       "    </tr>\n",
       "    <tr>\n",
       "      <th>2</th>\n",
       "      <td>5003</td>\n",
       "      <td>3</td>\n",
       "      <td>579.06</td>\n",
       "      <td>2023-06-27</td>\n",
       "      <td>3003</td>\n",
       "      <td>205</td>\n",
       "      <td>152</td>\n",
       "    </tr>\n",
       "    <tr>\n",
       "      <th>3</th>\n",
       "      <td>5004</td>\n",
       "      <td>1</td>\n",
       "      <td>316.81</td>\n",
       "      <td>2023-06-27</td>\n",
       "      <td>3005</td>\n",
       "      <td>215</td>\n",
       "      <td>635</td>\n",
       "    </tr>\n",
       "    <tr>\n",
       "      <th>4</th>\n",
       "      <td>5005</td>\n",
       "      <td>2</td>\n",
       "      <td>121.93</td>\n",
       "      <td>2023-06-27</td>\n",
       "      <td>3006</td>\n",
       "      <td>204</td>\n",
       "      <td>857</td>\n",
       "    </tr>\n",
       "  </tbody>\n",
       "</table>\n",
       "</div>"
      ],
      "text/plain": [
       "   PurchaseID  PurchaseQuantity  PurchasePrice PurchaseDate  customerid  \\\n",
       "0        5001                 3          54.96   2023-06-26        3001   \n",
       "1        5002                 1         477.05   2023-06-26        3002   \n",
       "2        5003                 3         579.06   2023-06-27        3003   \n",
       "3        5004                 1         316.81   2023-06-27        3005   \n",
       "4        5005                 2         121.93   2023-06-27        3006   \n",
       "\n",
       "   ProductID  TransactionID  \n",
       "0        207            224  \n",
       "1        217            650  \n",
       "2        205            152  \n",
       "3        215            635  \n",
       "4        204            857  "
      ]
     },
     "execution_count": 36,
     "metadata": {},
     "output_type": "execute_result"
    }
   ],
   "source": [
    "#head values of purchase table \n",
    "purchase.head()"
   ]
  },
  {
   "cell_type": "code",
   "execution_count": 37,
   "id": "ecaf5ed0-f00e-46be-9fc2-34dabb97e2db",
   "metadata": {},
   "outputs": [
    {
     "data": {
      "text/plain": [
       "PurchaseID          1000\n",
       "PurchaseQuantity    1000\n",
       "PurchasePrice       1000\n",
       "PurchaseDate        1000\n",
       "customerid          1000\n",
       "ProductID           1000\n",
       "TransactionID       1000\n",
       "dtype: int64"
      ]
     },
     "execution_count": 37,
     "metadata": {},
     "output_type": "execute_result"
    }
   ],
   "source": [
    "#null values count in purchase table\n",
    "purchase.isnull().count()"
   ]
  },
  {
   "cell_type": "code",
   "execution_count": 38,
   "id": "14458ee7-7dcf-4d70-b7ce-f291c05cb16e",
   "metadata": {},
   "outputs": [
    {
     "data": {
      "text/plain": [
       "(1000, 7)"
      ]
     },
     "execution_count": 38,
     "metadata": {},
     "output_type": "execute_result"
    }
   ],
   "source": [
    "#check shape of dataframe\n",
    "purchase.shape"
   ]
  },
  {
   "cell_type": "code",
   "execution_count": 39,
   "id": "131cad50-2790-4905-bc3e-37403835e977",
   "metadata": {},
   "outputs": [
    {
     "name": "stdout",
     "output_type": "stream",
     "text": [
      "<class 'pandas.core.frame.DataFrame'>\n",
      "RangeIndex: 1000 entries, 0 to 999\n",
      "Data columns (total 7 columns):\n",
      " #   Column            Non-Null Count  Dtype         \n",
      "---  ------            --------------  -----         \n",
      " 0   PurchaseID        1000 non-null   int64         \n",
      " 1   PurchaseQuantity  1000 non-null   int64         \n",
      " 2   PurchasePrice     1000 non-null   float64       \n",
      " 3   PurchaseDate      1000 non-null   datetime64[ns]\n",
      " 4   customerid        1000 non-null   int64         \n",
      " 5   ProductID         1000 non-null   int64         \n",
      " 6   TransactionID     1000 non-null   int64         \n",
      "dtypes: datetime64[ns](1), float64(1), int64(5)\n",
      "memory usage: 54.8 KB\n"
     ]
    }
   ],
   "source": [
    "#purchase table information \n",
    "purchase.info()"
   ]
  },
  {
   "cell_type": "code",
   "execution_count": 40,
   "id": "d5bf672f-2303-4534-b059-e495a9efe544",
   "metadata": {},
   "outputs": [
    {
     "data": {
      "text/html": [
       "<div>\n",
       "<style scoped>\n",
       "    .dataframe tbody tr th:only-of-type {\n",
       "        vertical-align: middle;\n",
       "    }\n",
       "\n",
       "    .dataframe tbody tr th {\n",
       "        vertical-align: top;\n",
       "    }\n",
       "\n",
       "    .dataframe thead th {\n",
       "        text-align: right;\n",
       "    }\n",
       "</style>\n",
       "<table border=\"1\" class=\"dataframe\">\n",
       "  <thead>\n",
       "    <tr style=\"text-align: right;\">\n",
       "      <th></th>\n",
       "      <th>productid</th>\n",
       "      <th>productname</th>\n",
       "      <th>productcategory</th>\n",
       "    </tr>\n",
       "  </thead>\n",
       "  <tbody>\n",
       "    <tr>\n",
       "      <th>0</th>\n",
       "      <td>201</td>\n",
       "      <td>Air Conditioner</td>\n",
       "      <td>Home Appliances</td>\n",
       "    </tr>\n",
       "    <tr>\n",
       "      <th>1</th>\n",
       "      <td>202</td>\n",
       "      <td>Blender</td>\n",
       "      <td>Home Appliances</td>\n",
       "    </tr>\n",
       "    <tr>\n",
       "      <th>2</th>\n",
       "      <td>203</td>\n",
       "      <td>Camera</td>\n",
       "      <td>Electronics</td>\n",
       "    </tr>\n",
       "    <tr>\n",
       "      <th>3</th>\n",
       "      <td>204</td>\n",
       "      <td>Coffee Maker</td>\n",
       "      <td>Home Appliances</td>\n",
       "    </tr>\n",
       "    <tr>\n",
       "      <th>4</th>\n",
       "      <td>205</td>\n",
       "      <td>Electric Kettle</td>\n",
       "      <td>Home Appliances</td>\n",
       "    </tr>\n",
       "    <tr>\n",
       "      <th>5</th>\n",
       "      <td>206</td>\n",
       "      <td>Headphones</td>\n",
       "      <td>Electronics</td>\n",
       "    </tr>\n",
       "    <tr>\n",
       "      <th>6</th>\n",
       "      <td>207</td>\n",
       "      <td>Heater</td>\n",
       "      <td>Home Appliances</td>\n",
       "    </tr>\n",
       "    <tr>\n",
       "      <th>7</th>\n",
       "      <td>208</td>\n",
       "      <td>Laptop</td>\n",
       "      <td>Electronics</td>\n",
       "    </tr>\n",
       "    <tr>\n",
       "      <th>8</th>\n",
       "      <td>209</td>\n",
       "      <td>Microwave</td>\n",
       "      <td>Home Appliances</td>\n",
       "    </tr>\n",
       "    <tr>\n",
       "      <th>9</th>\n",
       "      <td>210</td>\n",
       "      <td>Printer</td>\n",
       "      <td>Electronics</td>\n",
       "    </tr>\n",
       "    <tr>\n",
       "      <th>10</th>\n",
       "      <td>211</td>\n",
       "      <td>Refrigerator</td>\n",
       "      <td>Home Appliances</td>\n",
       "    </tr>\n",
       "    <tr>\n",
       "      <th>11</th>\n",
       "      <td>212</td>\n",
       "      <td>Router</td>\n",
       "      <td>Electronics</td>\n",
       "    </tr>\n",
       "    <tr>\n",
       "      <th>12</th>\n",
       "      <td>213</td>\n",
       "      <td>Smart Bulb</td>\n",
       "      <td>Electronics</td>\n",
       "    </tr>\n",
       "    <tr>\n",
       "      <th>13</th>\n",
       "      <td>214</td>\n",
       "      <td>Smartphone</td>\n",
       "      <td>Electronics</td>\n",
       "    </tr>\n",
       "    <tr>\n",
       "      <th>14</th>\n",
       "      <td>215</td>\n",
       "      <td>Smartwatch</td>\n",
       "      <td>Electronics</td>\n",
       "    </tr>\n",
       "    <tr>\n",
       "      <th>15</th>\n",
       "      <td>216</td>\n",
       "      <td>Tablet</td>\n",
       "      <td>Electronics</td>\n",
       "    </tr>\n",
       "    <tr>\n",
       "      <th>16</th>\n",
       "      <td>217</td>\n",
       "      <td>Television</td>\n",
       "      <td>Electronics</td>\n",
       "    </tr>\n",
       "    <tr>\n",
       "      <th>17</th>\n",
       "      <td>218</td>\n",
       "      <td>Toaster</td>\n",
       "      <td>Home Appliances</td>\n",
       "    </tr>\n",
       "    <tr>\n",
       "      <th>18</th>\n",
       "      <td>219</td>\n",
       "      <td>Vacuum Cleaner</td>\n",
       "      <td>Home Appliances</td>\n",
       "    </tr>\n",
       "    <tr>\n",
       "      <th>19</th>\n",
       "      <td>220</td>\n",
       "      <td>Washing Machine</td>\n",
       "      <td>Home Appliances</td>\n",
       "    </tr>\n",
       "  </tbody>\n",
       "</table>\n",
       "</div>"
      ],
      "text/plain": [
       "    productid      productname  productcategory\n",
       "0         201  Air Conditioner  Home Appliances\n",
       "1         202          Blender  Home Appliances\n",
       "2         203           Camera      Electronics\n",
       "3         204     Coffee Maker  Home Appliances\n",
       "4         205  Electric Kettle  Home Appliances\n",
       "5         206       Headphones      Electronics\n",
       "6         207           Heater  Home Appliances\n",
       "7         208           Laptop      Electronics\n",
       "8         209        Microwave  Home Appliances\n",
       "9         210          Printer      Electronics\n",
       "10        211     Refrigerator  Home Appliances\n",
       "11        212           Router      Electronics\n",
       "12        213       Smart Bulb      Electronics\n",
       "13        214       Smartphone      Electronics\n",
       "14        215       Smartwatch      Electronics\n",
       "15        216           Tablet      Electronics\n",
       "16        217       Television      Electronics\n",
       "17        218          Toaster  Home Appliances\n",
       "18        219   Vacuum Cleaner  Home Appliances\n",
       "19        220  Washing Machine  Home Appliances"
      ]
     },
     "execution_count": 40,
     "metadata": {},
     "output_type": "execute_result"
    }
   ],
   "source": [
    "products"
   ]
  },
  {
   "cell_type": "code",
   "execution_count": 41,
   "id": "9b6f0d2d-993f-4ce3-8908-e5d206a9c56e",
   "metadata": {},
   "outputs": [
    {
     "data": {
      "text/plain": [
       "(20, 3)"
      ]
     },
     "execution_count": 41,
     "metadata": {},
     "output_type": "execute_result"
    }
   ],
   "source": [
    "products.shape"
   ]
  },
  {
   "cell_type": "code",
   "execution_count": 42,
   "id": "19f5c17c-1e17-44d0-9cd8-f0ed07f5dcf6",
   "metadata": {},
   "outputs": [
    {
     "name": "stdout",
     "output_type": "stream",
     "text": [
      "<class 'pandas.core.frame.DataFrame'>\n",
      "RangeIndex: 1000 entries, 0 to 999\n",
      "Data columns (total 7 columns):\n",
      " #   Column            Non-Null Count  Dtype         \n",
      "---  ------            --------------  -----         \n",
      " 0   PurchaseID        1000 non-null   int64         \n",
      " 1   PurchaseQuantity  1000 non-null   int64         \n",
      " 2   PurchasePrice     1000 non-null   float64       \n",
      " 3   PurchaseDate      1000 non-null   datetime64[ns]\n",
      " 4   customerid        1000 non-null   int64         \n",
      " 5   ProductID         1000 non-null   int64         \n",
      " 6   TransactionID     1000 non-null   int64         \n",
      "dtypes: datetime64[ns](1), float64(1), int64(5)\n",
      "memory usage: 54.8 KB\n"
     ]
    }
   ],
   "source": [
    "purchase.info()"
   ]
  },
  {
   "cell_type": "code",
   "execution_count": null,
   "id": "60df4ae5-9b93-489d-83ae-73efd17e8498",
   "metadata": {},
   "outputs": [],
   "source": []
  },
  {
   "cell_type": "code",
   "execution_count": null,
   "id": "0c984b3f-25e2-4590-b9ad-a89b5f72ff6c",
   "metadata": {},
   "outputs": [],
   "source": []
  },
  {
   "cell_type": "code",
   "execution_count": null,
   "id": "cadc23dc-1f57-4ae2-a615-86d46777ed8b",
   "metadata": {},
   "outputs": [],
   "source": []
  },
  {
   "cell_type": "code",
   "execution_count": 43,
   "id": "22d3ec1a-3ed4-43e9-83ce-6a42367b0b0f",
   "metadata": {},
   "outputs": [
    {
     "data": {
      "text/plain": [
       "489274.72"
      ]
     },
     "execution_count": 43,
     "metadata": {},
     "output_type": "execute_result"
    }
   ],
   "source": [
    "#Calculate total purchases, total revenue, and average purchase value.\n",
    "Total_purchase = sum(purchase[\"PurchasePrice\"])\n",
    "Total_purchase              "
   ]
  },
  {
   "cell_type": "code",
   "execution_count": 44,
   "id": "4ce212be-b8b9-445c-badb-823c5768a309",
   "metadata": {},
   "outputs": [
    {
     "data": {
      "text/plain": [
       "489.27472"
      ]
     },
     "execution_count": 44,
     "metadata": {},
     "output_type": "execute_result"
    }
   ],
   "source": [
    "#average of total purchase value  \n",
    "Average_purchase = purchase[\"PurchasePrice\"].mean()\n",
    "Average_purchase"
   ]
  },
  {
   "cell_type": "code",
   "execution_count": 45,
   "id": "5e70282e-ec90-44ed-8632-8fdc59ec53a1",
   "metadata": {},
   "outputs": [
    {
     "data": {
      "text/html": [
       "<div>\n",
       "<style scoped>\n",
       "    .dataframe tbody tr th:only-of-type {\n",
       "        vertical-align: middle;\n",
       "    }\n",
       "\n",
       "    .dataframe tbody tr th {\n",
       "        vertical-align: top;\n",
       "    }\n",
       "\n",
       "    .dataframe thead th {\n",
       "        text-align: right;\n",
       "    }\n",
       "</style>\n",
       "<table border=\"1\" class=\"dataframe\">\n",
       "  <thead>\n",
       "    <tr style=\"text-align: right;\">\n",
       "      <th></th>\n",
       "      <th>PurchaseID</th>\n",
       "      <th>PurchaseQuantity</th>\n",
       "      <th>PurchasePrice</th>\n",
       "      <th>PurchaseDate</th>\n",
       "      <th>customerid</th>\n",
       "      <th>ProductID</th>\n",
       "      <th>TransactionID</th>\n",
       "    </tr>\n",
       "  </thead>\n",
       "  <tbody>\n",
       "    <tr>\n",
       "      <th>777</th>\n",
       "      <td>5778</td>\n",
       "      <td>2</td>\n",
       "      <td>999.98</td>\n",
       "      <td>2024-03-21</td>\n",
       "      <td>3778</td>\n",
       "      <td>219</td>\n",
       "      <td>267</td>\n",
       "    </tr>\n",
       "    <tr>\n",
       "      <th>268</th>\n",
       "      <td>5269</td>\n",
       "      <td>5</td>\n",
       "      <td>999.44</td>\n",
       "      <td>2023-09-26</td>\n",
       "      <td>3268</td>\n",
       "      <td>214</td>\n",
       "      <td>796</td>\n",
       "    </tr>\n",
       "    <tr>\n",
       "      <th>281</th>\n",
       "      <td>5282</td>\n",
       "      <td>5</td>\n",
       "      <td>998.17</td>\n",
       "      <td>2023-10-04</td>\n",
       "      <td>3282</td>\n",
       "      <td>203</td>\n",
       "      <td>317</td>\n",
       "    </tr>\n",
       "    <tr>\n",
       "      <th>73</th>\n",
       "      <td>5074</td>\n",
       "      <td>3</td>\n",
       "      <td>997.45</td>\n",
       "      <td>2023-07-24</td>\n",
       "      <td>3074</td>\n",
       "      <td>217</td>\n",
       "      <td>138</td>\n",
       "    </tr>\n",
       "    <tr>\n",
       "      <th>505</th>\n",
       "      <td>5506</td>\n",
       "      <td>4</td>\n",
       "      <td>996.01</td>\n",
       "      <td>2023-12-21</td>\n",
       "      <td>3504</td>\n",
       "      <td>206</td>\n",
       "      <td>364</td>\n",
       "    </tr>\n",
       "    <tr>\n",
       "      <th>871</th>\n",
       "      <td>5872</td>\n",
       "      <td>3</td>\n",
       "      <td>995.97</td>\n",
       "      <td>2024-05-03</td>\n",
       "      <td>3872</td>\n",
       "      <td>214</td>\n",
       "      <td>171</td>\n",
       "    </tr>\n",
       "    <tr>\n",
       "      <th>461</th>\n",
       "      <td>5462</td>\n",
       "      <td>4</td>\n",
       "      <td>994.58</td>\n",
       "      <td>2023-12-05</td>\n",
       "      <td>3460</td>\n",
       "      <td>219</td>\n",
       "      <td>284</td>\n",
       "    </tr>\n",
       "    <tr>\n",
       "      <th>927</th>\n",
       "      <td>5928</td>\n",
       "      <td>5</td>\n",
       "      <td>993.55</td>\n",
       "      <td>2024-05-24</td>\n",
       "      <td>3927</td>\n",
       "      <td>206</td>\n",
       "      <td>456</td>\n",
       "    </tr>\n",
       "    <tr>\n",
       "      <th>816</th>\n",
       "      <td>5817</td>\n",
       "      <td>2</td>\n",
       "      <td>992.33</td>\n",
       "      <td>2024-04-08</td>\n",
       "      <td>3816</td>\n",
       "      <td>211</td>\n",
       "      <td>116</td>\n",
       "    </tr>\n",
       "    <tr>\n",
       "      <th>259</th>\n",
       "      <td>5260</td>\n",
       "      <td>4</td>\n",
       "      <td>991.08</td>\n",
       "      <td>2023-09-24</td>\n",
       "      <td>3259</td>\n",
       "      <td>217</td>\n",
       "      <td>255</td>\n",
       "    </tr>\n",
       "  </tbody>\n",
       "</table>\n",
       "</div>"
      ],
      "text/plain": [
       "     PurchaseID  PurchaseQuantity  PurchasePrice PurchaseDate  customerid  \\\n",
       "777        5778                 2         999.98   2024-03-21        3778   \n",
       "268        5269                 5         999.44   2023-09-26        3268   \n",
       "281        5282                 5         998.17   2023-10-04        3282   \n",
       "73         5074                 3         997.45   2023-07-24        3074   \n",
       "505        5506                 4         996.01   2023-12-21        3504   \n",
       "871        5872                 3         995.97   2024-05-03        3872   \n",
       "461        5462                 4         994.58   2023-12-05        3460   \n",
       "927        5928                 5         993.55   2024-05-24        3927   \n",
       "816        5817                 2         992.33   2024-04-08        3816   \n",
       "259        5260                 4         991.08   2023-09-24        3259   \n",
       "\n",
       "     ProductID  TransactionID  \n",
       "777        219            267  \n",
       "268        214            796  \n",
       "281        203            317  \n",
       "73         217            138  \n",
       "505        206            364  \n",
       "871        214            171  \n",
       "461        219            284  \n",
       "927        206            456  \n",
       "816        211            116  \n",
       "259        217            255  "
      ]
     },
     "execution_count": 45,
     "metadata": {},
     "output_type": "execute_result"
    }
   ],
   "source": [
    "#top cutomers and purchasing behaviour\n",
    "# Sorting by 'Spending' to find top customers by highest spending\n",
    "top_customers = purchase.sort_values(by=\"PurchasePrice\", ascending=False)\n",
    "top_customers.head(10)\n"
   ]
  },
  {
   "cell_type": "code",
   "execution_count": 47,
   "id": "4e60dc93-2490-42a7-8eaf-9a489293733d",
   "metadata": {},
   "outputs": [
    {
     "ename": "ValueError",
     "evalue": "keep must be either \"first\", \"last\" or \"all\"",
     "output_type": "error",
     "traceback": [
      "\u001b[1;31m---------------------------------------------------------------------------\u001b[0m",
      "\u001b[1;31mValueError\u001b[0m                                Traceback (most recent call last)",
      "Cell \u001b[1;32mIn[47], line 2\u001b[0m\n\u001b[0;32m      1\u001b[0m top1_purchase \u001b[38;5;241m=\u001b[39m purchase\u001b[38;5;241m.\u001b[39mgroupby(\u001b[38;5;124m'\u001b[39m\u001b[38;5;124mcustomerid\u001b[39m\u001b[38;5;124m'\u001b[39m)[\u001b[38;5;124m'\u001b[39m\u001b[38;5;124mPurchasePrice\u001b[39m\u001b[38;5;124m'\u001b[39m]\u001b[38;5;241m.\u001b[39msum()\n\u001b[1;32m----> 2\u001b[0m top1_customers \u001b[38;5;241m=\u001b[39m top_purchase\u001b[38;5;241m.\u001b[39mnlargest(\u001b[38;5;241m10\u001b[39m, \u001b[38;5;124m'\u001b[39m\u001b[38;5;124mPurchasePrice\u001b[39m\u001b[38;5;124m'\u001b[39m)\n\u001b[0;32m      3\u001b[0m \u001b[38;5;28mprint\u001b[39m(top1_customers)\n",
      "File \u001b[1;32m~\\anaconda3\\Lib\\site-packages\\pandas\\core\\series.py:4252\u001b[0m, in \u001b[0;36mSeries.nlargest\u001b[1;34m(self, n, keep)\u001b[0m\n\u001b[0;32m   4154\u001b[0m \u001b[38;5;28;01mdef\u001b[39;00m \u001b[38;5;21mnlargest\u001b[39m(\n\u001b[0;32m   4155\u001b[0m     \u001b[38;5;28mself\u001b[39m, n: \u001b[38;5;28mint\u001b[39m \u001b[38;5;241m=\u001b[39m \u001b[38;5;241m5\u001b[39m, keep: Literal[\u001b[38;5;124m\"\u001b[39m\u001b[38;5;124mfirst\u001b[39m\u001b[38;5;124m\"\u001b[39m, \u001b[38;5;124m\"\u001b[39m\u001b[38;5;124mlast\u001b[39m\u001b[38;5;124m\"\u001b[39m, \u001b[38;5;124m\"\u001b[39m\u001b[38;5;124mall\u001b[39m\u001b[38;5;124m\"\u001b[39m] \u001b[38;5;241m=\u001b[39m \u001b[38;5;124m\"\u001b[39m\u001b[38;5;124mfirst\u001b[39m\u001b[38;5;124m\"\u001b[39m\n\u001b[0;32m   4156\u001b[0m ) \u001b[38;5;241m-\u001b[39m\u001b[38;5;241m>\u001b[39m Series:\n\u001b[0;32m   4157\u001b[0m \u001b[38;5;250m    \u001b[39m\u001b[38;5;124;03m\"\"\"\u001b[39;00m\n\u001b[0;32m   4158\u001b[0m \u001b[38;5;124;03m    Return the largest `n` elements.\u001b[39;00m\n\u001b[0;32m   4159\u001b[0m \n\u001b[1;32m   (...)\u001b[0m\n\u001b[0;32m   4250\u001b[0m \u001b[38;5;124;03m    dtype: int64\u001b[39;00m\n\u001b[0;32m   4251\u001b[0m \u001b[38;5;124;03m    \"\"\"\u001b[39;00m\n\u001b[1;32m-> 4252\u001b[0m     \u001b[38;5;28;01mreturn\u001b[39;00m selectn\u001b[38;5;241m.\u001b[39mSelectNSeries(\u001b[38;5;28mself\u001b[39m, n\u001b[38;5;241m=\u001b[39mn, keep\u001b[38;5;241m=\u001b[39mkeep)\u001b[38;5;241m.\u001b[39mnlargest()\n",
      "File \u001b[1;32m~\\anaconda3\\Lib\\site-packages\\pandas\\core\\methods\\selectn.py:50\u001b[0m, in \u001b[0;36mSelectN.__init__\u001b[1;34m(self, obj, n, keep)\u001b[0m\n\u001b[0;32m     47\u001b[0m \u001b[38;5;28mself\u001b[39m\u001b[38;5;241m.\u001b[39mkeep \u001b[38;5;241m=\u001b[39m keep\n\u001b[0;32m     49\u001b[0m \u001b[38;5;28;01mif\u001b[39;00m \u001b[38;5;28mself\u001b[39m\u001b[38;5;241m.\u001b[39mkeep \u001b[38;5;129;01mnot\u001b[39;00m \u001b[38;5;129;01min\u001b[39;00m (\u001b[38;5;124m\"\u001b[39m\u001b[38;5;124mfirst\u001b[39m\u001b[38;5;124m\"\u001b[39m, \u001b[38;5;124m\"\u001b[39m\u001b[38;5;124mlast\u001b[39m\u001b[38;5;124m\"\u001b[39m, \u001b[38;5;124m\"\u001b[39m\u001b[38;5;124mall\u001b[39m\u001b[38;5;124m\"\u001b[39m):\n\u001b[1;32m---> 50\u001b[0m     \u001b[38;5;28;01mraise\u001b[39;00m \u001b[38;5;167;01mValueError\u001b[39;00m(\u001b[38;5;124m'\u001b[39m\u001b[38;5;124mkeep must be either \u001b[39m\u001b[38;5;124m\"\u001b[39m\u001b[38;5;124mfirst\u001b[39m\u001b[38;5;124m\"\u001b[39m\u001b[38;5;124m, \u001b[39m\u001b[38;5;124m\"\u001b[39m\u001b[38;5;124mlast\u001b[39m\u001b[38;5;124m\"\u001b[39m\u001b[38;5;124m or \u001b[39m\u001b[38;5;124m\"\u001b[39m\u001b[38;5;124mall\u001b[39m\u001b[38;5;124m\"\u001b[39m\u001b[38;5;124m'\u001b[39m)\n",
      "\u001b[1;31mValueError\u001b[0m: keep must be either \"first\", \"last\" or \"all\""
     ]
    }
   ],
   "source": [
    "top1_purchase = purchase.groupby('customerid')['PurchasePrice'].sum()\n",
    "top1_customers = top_purchase.nlargest(10, 'PurchasePrice')\n",
    "print(top1_customers)"
   ]
  },
  {
   "cell_type": "code",
   "execution_count": null,
   "id": "4123291c-3d84-4b0b-8862-4308473ddf1e",
   "metadata": {},
   "outputs": [],
   "source": [
    "row = purchase.loc[131]\n",
    "print(row)"
   ]
  },
  {
   "cell_type": "code",
   "execution_count": null,
   "id": "2246f54a-df2e-40f4-845a-07d494fd1b75",
   "metadata": {},
   "outputs": [],
   "source": [
    "#sum of total Quantities sold \n",
    "totalQuantity = sum(purchase[\"PurchaseQuantity\"])\n",
    "totalQuantity"
   ]
  },
  {
   "cell_type": "code",
   "execution_count": null,
   "id": "1da8cf54-aa4e-4d8b-9589-4a85796985b7",
   "metadata": {},
   "outputs": [],
   "source": [
    "customers[\"country\"].nunique()"
   ]
  },
  {
   "cell_type": "code",
   "execution_count": null,
   "id": "6767b254-4b33-4ccd-bc78-7be16359cbb4",
   "metadata": {},
   "outputs": [],
   "source": [
    "customers[\"customername\"].duplicated()"
   ]
  },
  {
   "cell_type": "code",
   "execution_count": null,
   "id": "7985a2f9-c916-4ece-be8f-101e6c7cceaf",
   "metadata": {},
   "outputs": [],
   "source": [
    "#Analyze purchase trends over time (monthly, quarterly, yearly).\n",
    "# Convert 'Date' column to datetime\n",
    "\n",
    "purchase[\"PurchaseDate\"]=purchase[\"PurchaseDate\"].apply(pd.to_datetime)\n",
    "print(purchase.dtypes)"
   ]
  },
  {
   "cell_type": "code",
   "execution_count": null,
   "id": "7126d8be-8de4-4a1d-a564-03cac2e29198",
   "metadata": {},
   "outputs": [],
   "source": [
    "purchase['Month'] = purchase['PurchaseDate'].dt.month\n",
    "purchase['Year'] = purchase['PurchaseDate'].dt.year\n",
    "purchase"
   ]
  },
  {
   "cell_type": "code",
   "execution_count": null,
   "id": "efe376e4-987e-4648-adae-29d6ec153c89",
   "metadata": {},
   "outputs": [],
   "source": []
  },
  {
   "cell_type": "code",
   "execution_count": null,
   "id": "eddb8ebe-0998-4cff-925b-a1e376f44ade",
   "metadata": {},
   "outputs": [],
   "source": [
    "merged_df.groupby('country')['PurchasePrice'].sum()"
   ]
  },
  {
   "cell_type": "code",
   "execution_count": null,
   "id": "68e7ffaa-ef30-48df-8403-5a8d2a8abc3b",
   "metadata": {},
   "outputs": [],
   "source": []
  }
 ],
 "metadata": {
  "kernelspec": {
   "display_name": "Python 3 (ipykernel)",
   "language": "python",
   "name": "python3"
  },
  "language_info": {
   "codemirror_mode": {
    "name": "ipython",
    "version": 3
   },
   "file_extension": ".py",
   "mimetype": "text/x-python",
   "name": "python",
   "nbconvert_exporter": "python",
   "pygments_lexer": "ipython3",
   "version": "3.12.4"
  }
 },
 "nbformat": 4,
 "nbformat_minor": 5
}
